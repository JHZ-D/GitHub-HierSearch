{
 "cells": [
  {
   "cell_type": "code",
   "execution_count": 24,
   "metadata": {},
   "outputs": [],
   "source": [
    "import json\n",
    "import copy\n",
    "import time"
   ]
  },
  {
   "cell_type": "code",
   "execution_count": 3,
   "metadata": {},
   "outputs": [],
   "source": [
    "with open('wholegraphtreerepo.json', 'r') as f:\n",
    "    wholegraphtreerepo = json.load(f)"
   ]
  },
  {
   "cell_type": "code",
   "execution_count": 4,
   "metadata": {},
   "outputs": [],
   "source": [
    "topicdict = {}\n",
    "topicnumdesc = {}\n",
    "def dfs(tree):\n",
    "    if tree['id'] in topicdict:\n",
    "        return\n",
    "    if tree['id'].startswith('tp'):\n",
    "        topicdict[tree['id']] = tree['label']\n",
    "    if 'children' in tree:\n",
    "        for child in tree['children']:\n",
    "            dfs(child)\n",
    "dfs(wholegraphtreerepo)\n",
    "with open('../Topic-Wiki-Valid/topic_desc.json', 'r') as f:\n",
    "    topic_desc = json.load(f)\n",
    "for topicnum, topic in topicdict.items():\n",
    "    if topic in topic_desc:\n",
    "        topicnumdesc[topicnum] = topic_desc[topic]\n",
    "with open('topicnumdesc.json', 'w') as f:\n",
    "    json.dump(topicnumdesc, f)"
   ]
  },
  {
   "cell_type": "code",
   "execution_count": 6,
   "metadata": {},
   "outputs": [],
   "source": [
    "with open('../Wiki-Github-Link/Pageleaf-encode.json', 'r') as f:\n",
    "    pageleaf_encode = json.load(f)\n",
    "with open('Pagedescs.json', 'r', encoding='utf-8') as f:\n",
    "    pagedescs = json.load(f)\n",
    "pageinfo = {}\n",
    "for page, desc in pagedescs.items():\n",
    "    pageinfo[page] = {\n",
    "        'desc': desc,\n",
    "        'name': pageleaf_encode[page]\n",
    "    }\n",
    "with open('pageinfo.json', 'w') as f:\n",
    "    json.dump(pageinfo, f, indent=1)"
   ]
  },
  {
   "cell_type": "code",
   "execution_count": 7,
   "metadata": {},
   "outputs": [],
   "source": [
    "topicinfo = {}\n",
    "for topicnum, topic in topicdict.items():\n",
    "    if topic in topic_desc:\n",
    "        topicinfo[topicnum] = {'name': topic, 'desc': topic_desc[topic]}\n",
    "with open('topicinfo.json', 'w') as f:\n",
    "    json.dump(topicinfo, f, indent=1)"
   ]
  },
  {
   "cell_type": "code",
   "execution_count": 8,
   "metadata": {},
   "outputs": [],
   "source": [
    "with open('topicdict.json', 'w') as f:\n",
    "    json.dump(topicdict, f, indent=1)"
   ]
  },
  {
   "cell_type": "code",
   "execution_count": 2,
   "metadata": {},
   "outputs": [],
   "source": [
    "with open('cateinfoonlygithub.json', 'r') as f:\n",
    "    cateinfoonlygithub = json.load(f)\n",
    "with open('pageinfo.json', 'r') as f:\n",
    "    pageinfo = json.load(f)\n",
    "knowpdict = {}\n",
    "for cate, info in cateinfoonlygithub.items():\n",
    "    if not info['name'] in knowpdict:\n",
    "        knowpdict[info['name']] = cate\n",
    "    for page in info['pages']:\n",
    "        if not pageinfo[str(page)]['name'] in knowpdict:\n",
    "            knowpdict[pageinfo[str(page)]['name']] = 'pg' + str(page)\n",
    "with open('knowpdict.json', 'w') as f:\n",
    "    json.dump(knowpdict, f, indent=1)"
   ]
  },
  {
   "cell_type": "code",
   "execution_count": 28,
   "metadata": {},
   "outputs": [],
   "source": [
    "topicdict = {}\n",
    "topicset = set()\n",
    "def dfs(tree):\n",
    "    if tree['id'] in topicset:\n",
    "        return\n",
    "    topicset.add(tree['id'])\n",
    "    if not tree['label'] in knowpdict:\n",
    "        knowpdict[tree['label']] = tree['id']\n",
    "    if tree['id'].startswith('tp'):\n",
    "        topicdict[tree['label']] = tree['id']\n",
    "    if 'children' in tree:\n",
    "        for child in tree['children']:\n",
    "            dfs(child)\n",
    "dfs(wholegraphtreerepo)\n",
    "with open('knowpdict.json', 'w') as f:\n",
    "    json.dump(knowpdict, f, indent=1)"
   ]
  },
  {
   "cell_type": "code",
   "execution_count": 5,
   "metadata": {},
   "outputs": [],
   "source": [
    "knowpdict = {k:v for k,v in knowpdict.items() if not v.startswith('rp')}\n",
    "with open('knowpdict.json', 'w') as f:\n",
    "    json.dump(knowpdict, f, indent=1)"
   ]
  },
  {
   "cell_type": "code",
   "execution_count": 25,
   "metadata": {},
   "outputs": [
    {
     "name": "stdout",
     "output_type": "stream",
     "text": [
      "107\n",
      "7\n",
      "0\n",
      "{'id': '932', 'label': 'Java development tools', 'group': 0, 'children': [{'id': 'pg23363', 'label': 'Javadoc', 'group': 1, 'children': [{'id': 'tp7373', 'label': 'javadoc', 'children': [{'id': 'rp71577', 'label': 'pedroslopez/whatsapp-web.js', 'group': 4}, {'id': 'rp89099', 'label': 'eternnoir/pyTelegramBotAPI', 'group': 4}, {'id': 'rp117159', 'label': 'telegraf/telegraf', 'group': 4}, {'id': 'rp89931', 'label': 'javaparser/javaparser', 'group': 4}, {'id': 'rp79785', 'label': 'DV8FromTheWorld/JDA', 'group': 4}], 'group': 2}]}]}\n",
      "totcnt 7323\n",
      "copycost 18.57514262199402\n"
     ]
    }
   ],
   "source": [
    "cut = set()\n",
    "totcnt = 0\n",
    "copycost = 0\n",
    "def dfsknowgraph(tree, id, repos, depth = -1):\n",
    "    if tree['id'] in cut or tree['id'].startswith('rp'):\n",
    "        return None\n",
    "    global totcnt\n",
    "    global copycost\n",
    "    totcnt += 1\n",
    "    start = time.time()\n",
    "    newtree = copy.deepcopy(tree)\n",
    "    copycost += time.time() - start\n",
    "    cut.add(tree['id'])\n",
    "    if depth == 0:\n",
    "        for child in tree['children']:\n",
    "            if child['id'].startswith('rp'):\n",
    "                if child['id'] in repos:\n",
    "                    newtree['children'].remove(child)\n",
    "            else:\n",
    "                newtree['children'].remove(child)\n",
    "        newtree['children'] = newtree['children'][:5]\n",
    "        return newtree\n",
    "    \n",
    "    if depth == 1:\n",
    "        cnt = 0\n",
    "        newtree['children'] = []\n",
    "        newrepos = copy.deepcopy(repos)\n",
    "        for child in tree['children']:\n",
    "            if child['id'].startswith('rp') and not child['id'] in repos:\n",
    "                newtree['children'].append(child)\n",
    "                cnt += 1\n",
    "                newrepos.append(child['id'])\n",
    "                if cnt == 5:\n",
    "                    break\n",
    "        for child in tree['children']:\n",
    "            if not child['id'].startswith('rp'):\n",
    "                newtree['children'].append(dfsknowgraph(child, child['id'], newrepos, 0))\n",
    "        return newtree\n",
    "    \n",
    "    if depth == 2:\n",
    "        cnt = 0\n",
    "        newtree['children'] = []\n",
    "        newrepos = []\n",
    "        for child in tree['children']:\n",
    "            if child['id'].startswith('rp'):\n",
    "                newtree['children'].append(child)\n",
    "                cnt += 1\n",
    "                newrepos.append(child['id'])\n",
    "                if cnt == 5:\n",
    "                    break\n",
    "        for child in tree['children']:\n",
    "            if not child['id'].startswith('rp'):\n",
    "                newtree['children'].append(dfsknowgraph(child, child['id'], newrepos, 0))\n",
    "        return newtree\n",
    "\n",
    "    if tree['id'] == id:\n",
    "        cnt = 0\n",
    "        newtree['children'] = []\n",
    "        newrepos = []\n",
    "        for child in tree['children']:\n",
    "            if child['id'].startswith('rp'):\n",
    "                newtree['children'].append(child)\n",
    "                cnt += 1\n",
    "                newrepos.append(child['id'])\n",
    "                if cnt == 5:\n",
    "                    break\n",
    "        for child in tree['children']:\n",
    "            if not child['id'].startswith('rp'):\n",
    "                newtree['children'].append(dfsknowgraph(child, child['id'], newrepos, 1))\n",
    "        return newtree\n",
    "    if not 'children' in tree:\n",
    "        return None\n",
    "    for child in tree['children']:\n",
    "        if child['id'] in cut:\n",
    "            continue\n",
    "        if (child['id'].startswith('tp') or child['id'].startswith('ts')) and (id.startswith('pg') or id[0].isdigit()):\n",
    "            continue\n",
    "        if child['id'].startswith('pg') and id[0].isdigit():\n",
    "            continue\n",
    "        if child['id'] == id:\n",
    "            newtree['children'] = [dfsknowgraph(child, child['id'], [], 2)]\n",
    "            return newtree\n",
    "        else:\n",
    "            dfsre = dfsknowgraph(child, id, [], -1)\n",
    "            if dfsre != None:\n",
    "                print(tree['id'])\n",
    "                return dfsre\n",
    "    return None\n",
    "graph = dfsknowgraph(wholegraphtreerepo, 'pg23363', [])\n",
    "print(graph)\n",
    "print('totcnt', totcnt)\n",
    "print('copycost', copycost)"
   ]
  },
  {
   "cell_type": "code",
   "execution_count": 27,
   "metadata": {},
   "outputs": [],
   "source": [
    "wholedict = {}\n",
    "def dfs(tree, parent):\n",
    "    if tree['id'].startswith('rp'):\n",
    "        return\n",
    "    if tree['id'] in wholedict:\n",
    "        wholedict[tree['id']]['parent'].append(parent)\n",
    "        return\n",
    "    curitem = {'label': tree['label'], 'group': tree['group'], 'parent': [parent]}\n",
    "    curchildren = [child['id'] for child in tree['children']]\n",
    "    curitem['children'] = curchildren\n",
    "    wholedict[tree['id']] = curitem\n",
    "    for child in tree['children']:\n",
    "        dfs(child, tree['id'])\n",
    "dfs(wholegraphtreerepo, None)\n",
    "with open('wholedict.json', 'w') as f:\n",
    "    json.dump(wholedict, f, indent=1)"
   ]
  }
 ],
 "metadata": {
  "kernelspec": {
   "display_name": "Python 3",
   "language": "python",
   "name": "python3"
  },
  "language_info": {
   "codemirror_mode": {
    "name": "ipython",
    "version": 3
   },
   "file_extension": ".py",
   "mimetype": "text/x-python",
   "name": "python",
   "nbconvert_exporter": "python",
   "pygments_lexer": "ipython3",
   "version": "3.9.13"
  },
  "orig_nbformat": 4
 },
 "nbformat": 4,
 "nbformat_minor": 2
}
