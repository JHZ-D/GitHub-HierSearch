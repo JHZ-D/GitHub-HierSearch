{
 "cells": [
  {
   "cell_type": "code",
   "execution_count": 10,
   "metadata": {},
   "outputs": [],
   "source": [
    "import json\n",
    "from queue import Queue\n",
    "import os\n",
    "from bs4 import BeautifulSoup\n",
    "import re"
   ]
  },
  {
   "cell_type": "code",
   "execution_count": 2,
   "metadata": {},
   "outputs": [],
   "source": [
    "with open('../Topic/TopicCooccurrency-mt3.json','r') as f:\n",
    "    topicCooccurrency = json.load(f)\n",
    "topics = [topic for topic in topicCooccurrency.keys() if len(topicCooccurrency[topic])>1]\n",
    "with open('topics.json','w') as f:  # 保存涉及topics\n",
    "    json.dump(topics,f,indent=1)"
   ]
  },
  {
   "cell_type": "code",
   "execution_count": 8,
   "metadata": {},
   "outputs": [],
   "source": [
    "def compactTopic(topic):\n",
    "    charset = set(['+', '#'])\n",
    "    result = filter(lambda c: c.isdigit() or c.isalpha() or c in charset, topic)\n",
    "    return(\"\".join(result)) # 1234\n",
    "def occurTime(topic):\n",
    "    return topicCooccurrency[topic][topic]\n"
   ]
  },
  {
   "cell_type": "code",
   "execution_count": 9,
   "metadata": {},
   "outputs": [
    {
     "data": {
      "text/plain": [
       "'DirecciónGeneralprendemx'"
      ]
     },
     "execution_count": 9,
     "metadata": {},
     "output_type": "execute_result"
    }
   ],
   "source": [
    "compactTopic('Direcci\\u00f3n General @prende.mx')"
   ]
  },
  {
   "cell_type": "code",
   "execution_count": 5,
   "metadata": {},
   "outputs": [],
   "source": [
    "topiccompactdict = {}\n",
    "for topic in topics:\n",
    "    ex = compactTopic(topic)\n",
    "    if ex not in topiccompactdict:\n",
    "        topiccompactdict[ex] = topic\n",
    "    elif occurTime(topiccompactdict[ex]) < occurTime(topic):\n",
    "        topiccompactdict[ex] = topic\n",
    "with open('../Topic/Topic-synonyms.json','r') as f:\n",
    "    topicSynonyms = json.load(f)\n",
    "for topic, syn in topicSynonyms.items():\n",
    "    if not topic in topicCooccurrency:\n",
    "        continue\n",
    "    for s in syn:\n",
    "        sc = compactTopic(s)\n",
    "        if sc not in topiccompactdict:\n",
    "            topiccompactdict[sc] = topic\n",
    "        elif occurTime(topiccompactdict[sc]) < occurTime(topic):\n",
    "            topiccompactdict[sc] = topic\n",
    "with open('topiccompactdict.json','w') as f:  # 保存涉及topics\n",
    "    json.dump(topiccompactdict,f,indent=1)"
   ]
  },
  {
   "cell_type": "code",
   "execution_count": 6,
   "metadata": {},
   "outputs": [],
   "source": [
    "with open('Pageleaf-redirect-encode.json','r') as f:\n",
    "    PageleafRedirectEncode = json.load(f)"
   ]
  },
  {
   "cell_type": "code",
   "execution_count": 12,
   "metadata": {},
   "outputs": [],
   "source": [
    "Pagematched = {}\n",
    "for id, page in PageleafRedirectEncode.items():\n",
    "    pagecompact = page\n",
    "    if page.find('(') != -1:\n",
    "        # remove '(' ')' and content in it\n",
    "        pagecompact = re.sub(r\"\\(.*?\\)\", \"\", page)\n",
    "    pagecompact = pagecompact.lower()\n",
    "    pagecompact = compactTopic(pagecompact)\n",
    "    if pagecompact in topiccompactdict:\n",
    "        Pagematched[id] = {'Wikipage':page, 'topic':topiccompactdict[pagecompact]}\n",
    "with open('Pagematched.json','w') as f:  # 保存涉及topics\n",
    "    json.dump(Pagematched,f,indent=1)"
   ]
  },
  {
   "cell_type": "code",
   "execution_count": 7,
   "metadata": {},
   "outputs": [
    {
     "name": "stdout",
     "output_type": "stream",
     "text": [
      "{'+', '-', '.', '#'}\n"
     ]
    }
   ],
   "source": [
    "charset = set()\n",
    "extras = set()\n",
    "for topic in topics:\n",
    "    result = filter(lambda c: not c.isdigit() and not c.isalpha() and not c in charset, topic)\n",
    "    for c in result:\n",
    "        extras.add(c)\n",
    "print(extras)"
   ]
  },
  {
   "cell_type": "code",
   "execution_count": 15,
   "metadata": {},
   "outputs": [],
   "source": [
    "deletetype = ['video game', 'color', 'film', 'comics', 'TV series', 'franchise', 'book', 'character', 'magazine', 'song', 'novel', 'album', 'journal']\n",
    "newPagematched = {}\n",
    "for page, info in Pagematched.items():\n",
    "    if info['Wikipage'].find('(') != -1:\n",
    "        typ = info['Wikipage'][info['Wikipage'].find('(')+1:info['Wikipage'].find(')')].lower()\n",
    "        td = 0\n",
    "        for d in deletetype:\n",
    "            if d in typ:\n",
    "                td = 1\n",
    "                break\n",
    "        if td == 1:\n",
    "            continue\n",
    "    newPagematched[page] = info\n",
    "with open('Pagematched.json','w') as f:\n",
    "    json.dump(newPagematched,f,indent=1)"
   ]
  },
  {
   "cell_type": "code",
   "execution_count": 20,
   "metadata": {},
   "outputs": [],
   "source": [
    "with open('Pagematched.json','r') as f:\n",
    "    Pagematched = json.load(f)"
   ]
  },
  {
   "cell_type": "code",
   "execution_count": 18,
   "metadata": {},
   "outputs": [],
   "source": [
    "toccur = set()\n",
    "Pagematched = {}\n",
    "for page, info in newPagematched.items():\n",
    "    if info['Wikipage'].find('(') != -1 and info['topic'] in toccur:\n",
    "        continue\n",
    "    Pagematched[page] = info\n",
    "    toccur.add(info['topic'])\n",
    "with open('Pagematched.json','w') as f:\n",
    "    json.dump(Pagematched,f,indent=1)"
   ]
  },
  {
   "cell_type": "code",
   "execution_count": 19,
   "metadata": {},
   "outputs": [],
   "source": [
    "with open('Pagematched.json','w') as f:\n",
    "    json.dump(Pagematched,f,indent=1)"
   ]
  }
 ],
 "metadata": {
  "kernelspec": {
   "display_name": "Python 3",
   "language": "python",
   "name": "python3"
  },
  "language_info": {
   "codemirror_mode": {
    "name": "ipython",
    "version": 3
   },
   "file_extension": ".py",
   "mimetype": "text/x-python",
   "name": "python",
   "nbconvert_exporter": "python",
   "pygments_lexer": "ipython3",
   "version": "3.9.13"
  },
  "orig_nbformat": 4
 },
 "nbformat": 4,
 "nbformat_minor": 2
}
